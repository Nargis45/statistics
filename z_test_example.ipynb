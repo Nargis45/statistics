{
  "nbformat": 4,
  "nbformat_minor": 0,
  "metadata": {
    "colab": {
      "provenance": [],
      "authorship_tag": "ABX9TyNKuXZ2YTGJ/k7X07S1Nq44",
      "include_colab_link": true
    },
    "kernelspec": {
      "name": "python3",
      "display_name": "Python 3"
    },
    "language_info": {
      "name": "python"
    }
  },
  "cells": [
    {
      "cell_type": "markdown",
      "metadata": {
        "id": "view-in-github",
        "colab_type": "text"
      },
      "source": [
        "<a href=\"https://colab.research.google.com/github/Nargis45/statistics/blob/main/z_test_example.ipynb\" target=\"_parent\"><img src=\"https://colab.research.google.com/assets/colab-badge.svg\" alt=\"Open In Colab\"/></a>"
      ]
    },
    {
      "cell_type": "markdown",
      "source": [
        "suppose the IQ in a certain population is normally distributed with a mean of 100 and standard deviation of 15.\n",
        "A researcher wants to know if a new drug affects IQ levels, so he recruits 20 patients to try it and records their IQ levels.\n",
        "The following code shows how to perform a one sample z-test in Python to determine if the new drug causes a significant \n",
        "difference in IQ levels: "
      ],
      "metadata": {
        "id": "lm8dKF-2H0a5"
      }
    },
    {
      "cell_type": "code",
      "execution_count": 1,
      "metadata": {
        "colab": {
          "base_uri": "https://localhost:8080/"
        },
        "id": "zzPMp3v-GzP2",
        "outputId": "a77396c7-d360-4064-92e5-a38244511d14"
      },
      "outputs": [
        {
          "output_type": "execute_result",
          "data": {
            "text/plain": [
              "(1.6976532110033402, 0.0895732335076963)"
            ]
          },
          "metadata": {},
          "execution_count": 1
        }
      ],
      "source": [
        "from statsmodels.stats.weightstats import ztest as ztest\n",
        "\n",
        "#enter IQ levels for 20 patients\n",
        "data=[88, 92, 94, 94, 96, 97, 97, 99, 99, 105, 109, 109, 109, 110, 112, 112, 113, 114, 115]\n",
        "ztest(data, value=100)"
      ]
    },
    {
      "cell_type": "markdown",
      "source": [
        "**In the above cell first o/p is z-test value and second o/p is p-value**"
      ],
      "metadata": {
        "id": "TyEiImyZIu4C"
      }
    },
    {
      "cell_type": "markdown",
      "source": [
        "**if p-value is less than significance value then we reject null hypothesis**"
      ],
      "metadata": {
        "id": "5ZavgUyKJbti"
      }
    }
  ]
}